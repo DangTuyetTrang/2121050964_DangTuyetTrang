{
 "cells": [
  {
   "attachments": {},
   "cell_type": "markdown",
   "id": "2ed41c09",
   "metadata": {},
   "source": [
    " \n",
    "<center>\n",
    "    <h1>ĐỒ ÁN KHOA HỌC MÁY TÍNH </h1>\n",
    "    <h2> NGHIÊN CỨU CÁC THUẬT TOÁN HỌC MÁY CÓ GIÁM SÁT ĐỂ XÂY DỰNG MÔ HÌNH DỰ ĐOÁN NGUY CƠ ĐỘT QUỴ </h2>\n",
    "</center>\n",
    "\n",
    "---\n",
    "**Mô tả bài toán:**\n",
    "   - Đột quỵ là một trong những nguyên nhân hàng đầu gây tử vong trên thế giới, đặc biệt ở những quốc gia có mức thu nhập thấp và trung bình. Theo Tổ chức Y tế Thế giới (WHO), hàng năm có hàng triệu người bị ảnh hưởng bởi đột quỵ và tỷ lệ này đang có xu hướng gia tăng do lối sống thiếu lành mạnh, tuổi thọ tăng cao, cùng với sự gia tăng của các bệnh nền như tăng huyết áp, tiểu đường, và bệnh tim mạch. Đáng chú ý, tình trạng đột quỵ ngày càng trẻ hóa, khiến vấn đề này trở nên cấp bách hơn khi không chỉ đe dọa sức khỏe người lớn tuổi mà còn ảnh hưởng nghiêm trọng đến lực lượng lao động trẻ.\n",
    "        Việc dự đoán sớm nguy cơ đột quỵ có ý nghĩa vô cùng quan trọng trong việc hỗ trợ các bác sĩ, chuyên gia y tế và bệnh nhân trong việc phát hiện và can thiệp kịp thời, giảm thiểu nguy cơ tử vong cũng như giảm bớt hậu quả lâu dài do đột quỵ gây ra.\n",
    "        Nhận thấy sự cấp thiết đó, nhóm em đã tiến hành xây dựng mô hình dự đoán nguy cơ đột quỵ sử dụng một số phương pháp học máy cơ bản. Mô hình này nhằm hỗ trợ phát hiện sớm các nguy cơ đột quỵ, giúp các bác sĩ và bệnh nhân có thể can thiệp kịp thời, giảm thiểu rủi ro tử vong cũng như hạn chế các di chứng nghiêm trọng do đột quỵ gây ra. Với các phương pháp học máy: Random Forest, Logistic Regression, XGBoost, mô hình được kỳ vọng sẽ cung cấp công cụ dự đoán chính xác, dễ triển khai và có thể ứng dụng thực tiễn trong môi trường y tế.\n",
    "        \n",
    "**Quy trình xây dựng mô hình dự đoán:**\n",
    "1. Tiền xử lý dữ liệu:\n",
    "    - Mã hóa dữ liệu\n",
    "    - Xử lý ngoại lai\n",
    "    - Cân bằng dữ liệu\n",
    "    - Chuẩn hóa các thuộc tính\n",
    "2. Huấn luyện mô hình:\n",
    "    - Thuật toán Random Forest \n",
    "    - Thuật toán Logistic Regression \n",
    "    - Thuật toán XGBoost\n",
    "3. Đánh giá hiệu suất các mô hình:\n",
    "\n",
    "**Mô tả bộ dữ liệu:**\n",
    "Tập dữ liệu dự đoán nguy cơ đột quỵ gồm 11 thuộc tính sau:\n",
    " - **gender:** \"Male\" hoặc \"Female\".\n",
    " - **age:** Tuổi của bệnh nhân.\n",
    " - **hypertension:** 0 nếu bệnh nhân không tăng huyết áp, 1 nếu bệnh nhân tăng huyết áp.\n",
    " - **heart_disease:** 0 nếu bệnh nhân không mắc bệnh tim, 1 nếu bệnh nhân có mắc bênh tim.\n",
    " - **ever_married:** \"No\" hoặc \"Yes\".\n",
    " - **work_type:** \"children\", \"Govt_job\", \"Private\" hoặc \"Self-employed\".\n",
    " - **Residence_type:** \"Rural\" hoặc \"Urban\".\n",
    " - **avg_glucose_level:** lượng glucose trung bình trong máu.\n",
    " - **bmi:** chỉ số khối cơ thể.\n",
    " - **smoking_status:** \"formerly smoked\", \"never smoked\", \"smokes\" hoặc \"Unknown\".\n",
    " - **stroke:** 1 nếu bệnh nhân bị đột quỵ hoặc 0  nếu không bị đột quỵ\n",
    "\n",
    "\n",
    "**Bộ dữ liệu được lấy từ Kaggle**\n",
    "\n",
    "---\n",
    "*Copyright Đặng Tuyết Trang - 2121050964*\n",
    " \n"
   ]
  },
  {
   "cell_type": "code",
   "execution_count": 4,
   "id": "87002d1d",
   "metadata": {},
   "outputs": [],
   "source": []
  },
  {
   "cell_type": "markdown",
   "id": "1e7f7283",
   "metadata": {},
   "source": []
  },
  {
   "cell_type": "markdown",
   "id": "4db770b6",
   "metadata": {},
   "source": [
    "## 1. Khai báo thư viện"
   ]
  },
  {
   "cell_type": "code",
   "execution_count": 9,
   "id": "e2aedebc",
   "metadata": {},
   "outputs": [],
   "source": [
    "# Regular EDA and plotting libraries\n",
    "import numpy as np\n",
    "import pandas as pd\n",
    "import matplotlib.pyplot as plt\n",
    "import seaborn as sns\n",
    "import xgboost as xgb\n",
    "\n",
    "# Models from scikit-learn\n",
    "from sklearn.linear_model import LogisticRegression\n",
    "from sklearn.ensemble import RandomForestClassifier\n",
    "\n",
    "# Model Evaluations\n",
    "from sklearn.model_selection import train_test_split, cross_val_score\n",
    "from sklearn.model_selection import RandomizedSearchCV, GridSearchCV\n",
    "from sklearn.metrics import confusion_matrix, classification_report\n",
    "from sklearn.metrics import precision_score, recall_score, f1_score\n",
    "from sklearn.metrics import RocCurveDisplay\n",
    "\n",
    "\n"
   ]
  },
  {
   "cell_type": "markdown",
   "id": "76975c93",
   "metadata": {},
   "source": [
    "### 2. Đọc dữ liệu "
   ]
  },
  {
   "cell_type": "code",
   "execution_count": 11,
   "id": "0bbc2df7",
   "metadata": {},
   "outputs": [],
   "source": [
    "df = pd.read_csv('data/brain_stroke.csv')"
   ]
  },
  {
   "cell_type": "code",
   "execution_count": 12,
   "id": "6d7cd39c",
   "metadata": {},
   "outputs": [
    {
     "data": {
      "text/html": [
       "<div>\n",
       "<style scoped>\n",
       "    .dataframe tbody tr th:only-of-type {\n",
       "        vertical-align: middle;\n",
       "    }\n",
       "\n",
       "    .dataframe tbody tr th {\n",
       "        vertical-align: top;\n",
       "    }\n",
       "\n",
       "    .dataframe thead th {\n",
       "        text-align: right;\n",
       "    }\n",
       "</style>\n",
       "<table border=\"1\" class=\"dataframe\">\n",
       "  <thead>\n",
       "    <tr style=\"text-align: right;\">\n",
       "      <th></th>\n",
       "      <th>gender</th>\n",
       "      <th>age</th>\n",
       "      <th>hypertension</th>\n",
       "      <th>heart_disease</th>\n",
       "      <th>ever_married</th>\n",
       "      <th>work_type</th>\n",
       "      <th>Residence_type</th>\n",
       "      <th>avg_glucose_level</th>\n",
       "      <th>bmi</th>\n",
       "      <th>smoking_status</th>\n",
       "      <th>stroke</th>\n",
       "    </tr>\n",
       "  </thead>\n",
       "  <tbody>\n",
       "    <tr>\n",
       "      <th>0</th>\n",
       "      <td>Male</td>\n",
       "      <td>67.0</td>\n",
       "      <td>0</td>\n",
       "      <td>1</td>\n",
       "      <td>Yes</td>\n",
       "      <td>Private</td>\n",
       "      <td>Urban</td>\n",
       "      <td>228.69</td>\n",
       "      <td>36.6</td>\n",
       "      <td>formerly smoked</td>\n",
       "      <td>1</td>\n",
       "    </tr>\n",
       "    <tr>\n",
       "      <th>1</th>\n",
       "      <td>Male</td>\n",
       "      <td>80.0</td>\n",
       "      <td>0</td>\n",
       "      <td>1</td>\n",
       "      <td>Yes</td>\n",
       "      <td>Private</td>\n",
       "      <td>Rural</td>\n",
       "      <td>105.92</td>\n",
       "      <td>32.5</td>\n",
       "      <td>never smoked</td>\n",
       "      <td>1</td>\n",
       "    </tr>\n",
       "    <tr>\n",
       "      <th>2</th>\n",
       "      <td>Female</td>\n",
       "      <td>49.0</td>\n",
       "      <td>0</td>\n",
       "      <td>0</td>\n",
       "      <td>Yes</td>\n",
       "      <td>Private</td>\n",
       "      <td>Urban</td>\n",
       "      <td>171.23</td>\n",
       "      <td>34.4</td>\n",
       "      <td>smokes</td>\n",
       "      <td>1</td>\n",
       "    </tr>\n",
       "    <tr>\n",
       "      <th>3</th>\n",
       "      <td>Female</td>\n",
       "      <td>79.0</td>\n",
       "      <td>1</td>\n",
       "      <td>0</td>\n",
       "      <td>Yes</td>\n",
       "      <td>Self-employed</td>\n",
       "      <td>Rural</td>\n",
       "      <td>174.12</td>\n",
       "      <td>24.0</td>\n",
       "      <td>never smoked</td>\n",
       "      <td>1</td>\n",
       "    </tr>\n",
       "    <tr>\n",
       "      <th>4</th>\n",
       "      <td>Male</td>\n",
       "      <td>81.0</td>\n",
       "      <td>0</td>\n",
       "      <td>0</td>\n",
       "      <td>Yes</td>\n",
       "      <td>Private</td>\n",
       "      <td>Urban</td>\n",
       "      <td>186.21</td>\n",
       "      <td>29.0</td>\n",
       "      <td>formerly smoked</td>\n",
       "      <td>1</td>\n",
       "    </tr>\n",
       "  </tbody>\n",
       "</table>\n",
       "</div>"
      ],
      "text/plain": [
       "   gender   age  hypertension  heart_disease ever_married      work_type  \\\n",
       "0    Male  67.0             0              1          Yes        Private   \n",
       "1    Male  80.0             0              1          Yes        Private   \n",
       "2  Female  49.0             0              0          Yes        Private   \n",
       "3  Female  79.0             1              0          Yes  Self-employed   \n",
       "4    Male  81.0             0              0          Yes        Private   \n",
       "\n",
       "  Residence_type  avg_glucose_level   bmi   smoking_status  stroke  \n",
       "0          Urban             228.69  36.6  formerly smoked       1  \n",
       "1          Rural             105.92  32.5     never smoked       1  \n",
       "2          Urban             171.23  34.4           smokes       1  \n",
       "3          Rural             174.12  24.0     never smoked       1  \n",
       "4          Urban             186.21  29.0  formerly smoked       1  "
      ]
     },
     "execution_count": 12,
     "metadata": {},
     "output_type": "execute_result"
    }
   ],
   "source": [
    "df.head()"
   ]
  },
  {
   "cell_type": "code",
   "execution_count": 18,
   "id": "29d52d8f",
   "metadata": {},
   "outputs": [
    {
     "data": {
      "text/html": [
       "<div>\n",
       "<style scoped>\n",
       "    .dataframe tbody tr th:only-of-type {\n",
       "        vertical-align: middle;\n",
       "    }\n",
       "\n",
       "    .dataframe tbody tr th {\n",
       "        vertical-align: top;\n",
       "    }\n",
       "\n",
       "    .dataframe thead th {\n",
       "        text-align: right;\n",
       "    }\n",
       "</style>\n",
       "<table border=\"1\" class=\"dataframe\">\n",
       "  <thead>\n",
       "    <tr style=\"text-align: right;\">\n",
       "      <th></th>\n",
       "      <th>gender</th>\n",
       "      <th>age</th>\n",
       "      <th>hypertension</th>\n",
       "      <th>heart_disease</th>\n",
       "      <th>ever_married</th>\n",
       "      <th>work_type</th>\n",
       "      <th>Residence_type</th>\n",
       "      <th>avg_glucose_level</th>\n",
       "      <th>bmi</th>\n",
       "      <th>smoking_status</th>\n",
       "      <th>stroke</th>\n",
       "    </tr>\n",
       "  </thead>\n",
       "  <tbody>\n",
       "    <tr>\n",
       "      <th>2246</th>\n",
       "      <td>Female</td>\n",
       "      <td>7.0</td>\n",
       "      <td>0</td>\n",
       "      <td>0</td>\n",
       "      <td>No</td>\n",
       "      <td>children</td>\n",
       "      <td>Urban</td>\n",
       "      <td>79.58</td>\n",
       "      <td>15.5</td>\n",
       "      <td>Unknown</td>\n",
       "      <td>0</td>\n",
       "    </tr>\n",
       "    <tr>\n",
       "      <th>4100</th>\n",
       "      <td>Male</td>\n",
       "      <td>4.0</td>\n",
       "      <td>0</td>\n",
       "      <td>0</td>\n",
       "      <td>No</td>\n",
       "      <td>children</td>\n",
       "      <td>Rural</td>\n",
       "      <td>112.83</td>\n",
       "      <td>18.2</td>\n",
       "      <td>Unknown</td>\n",
       "      <td>0</td>\n",
       "    </tr>\n",
       "    <tr>\n",
       "      <th>3012</th>\n",
       "      <td>Female</td>\n",
       "      <td>32.0</td>\n",
       "      <td>0</td>\n",
       "      <td>0</td>\n",
       "      <td>Yes</td>\n",
       "      <td>Private</td>\n",
       "      <td>Rural</td>\n",
       "      <td>92.37</td>\n",
       "      <td>26.9</td>\n",
       "      <td>never smoked</td>\n",
       "      <td>0</td>\n",
       "    </tr>\n",
       "    <tr>\n",
       "      <th>3196</th>\n",
       "      <td>Male</td>\n",
       "      <td>58.0</td>\n",
       "      <td>0</td>\n",
       "      <td>0</td>\n",
       "      <td>Yes</td>\n",
       "      <td>Private</td>\n",
       "      <td>Urban</td>\n",
       "      <td>94.53</td>\n",
       "      <td>36.1</td>\n",
       "      <td>never smoked</td>\n",
       "      <td>0</td>\n",
       "    </tr>\n",
       "    <tr>\n",
       "      <th>1449</th>\n",
       "      <td>Male</td>\n",
       "      <td>12.0</td>\n",
       "      <td>0</td>\n",
       "      <td>0</td>\n",
       "      <td>No</td>\n",
       "      <td>children</td>\n",
       "      <td>Urban</td>\n",
       "      <td>64.08</td>\n",
       "      <td>18.2</td>\n",
       "      <td>Unknown</td>\n",
       "      <td>0</td>\n",
       "    </tr>\n",
       "    <tr>\n",
       "      <th>341</th>\n",
       "      <td>Male</td>\n",
       "      <td>34.0</td>\n",
       "      <td>0</td>\n",
       "      <td>0</td>\n",
       "      <td>Yes</td>\n",
       "      <td>Private</td>\n",
       "      <td>Urban</td>\n",
       "      <td>80.81</td>\n",
       "      <td>33.2</td>\n",
       "      <td>never smoked</td>\n",
       "      <td>0</td>\n",
       "    </tr>\n",
       "    <tr>\n",
       "      <th>1567</th>\n",
       "      <td>Male</td>\n",
       "      <td>36.0</td>\n",
       "      <td>0</td>\n",
       "      <td>0</td>\n",
       "      <td>No</td>\n",
       "      <td>Private</td>\n",
       "      <td>Rural</td>\n",
       "      <td>233.52</td>\n",
       "      <td>40.9</td>\n",
       "      <td>never smoked</td>\n",
       "      <td>0</td>\n",
       "    </tr>\n",
       "    <tr>\n",
       "      <th>560</th>\n",
       "      <td>Female</td>\n",
       "      <td>33.0</td>\n",
       "      <td>0</td>\n",
       "      <td>0</td>\n",
       "      <td>Yes</td>\n",
       "      <td>Private</td>\n",
       "      <td>Urban</td>\n",
       "      <td>69.40</td>\n",
       "      <td>47.8</td>\n",
       "      <td>never smoked</td>\n",
       "      <td>0</td>\n",
       "    </tr>\n",
       "    <tr>\n",
       "      <th>3816</th>\n",
       "      <td>Female</td>\n",
       "      <td>17.0</td>\n",
       "      <td>0</td>\n",
       "      <td>0</td>\n",
       "      <td>No</td>\n",
       "      <td>Private</td>\n",
       "      <td>Rural</td>\n",
       "      <td>109.39</td>\n",
       "      <td>26.3</td>\n",
       "      <td>never smoked</td>\n",
       "      <td>0</td>\n",
       "    </tr>\n",
       "    <tr>\n",
       "      <th>4768</th>\n",
       "      <td>Male</td>\n",
       "      <td>57.0</td>\n",
       "      <td>0</td>\n",
       "      <td>0</td>\n",
       "      <td>Yes</td>\n",
       "      <td>Govt_job</td>\n",
       "      <td>Rural</td>\n",
       "      <td>76.62</td>\n",
       "      <td>28.2</td>\n",
       "      <td>never smoked</td>\n",
       "      <td>0</td>\n",
       "    </tr>\n",
       "  </tbody>\n",
       "</table>\n",
       "</div>"
      ],
      "text/plain": [
       "      gender   age  hypertension  heart_disease ever_married work_type  \\\n",
       "2246  Female   7.0             0              0           No  children   \n",
       "4100    Male   4.0             0              0           No  children   \n",
       "3012  Female  32.0             0              0          Yes   Private   \n",
       "3196    Male  58.0             0              0          Yes   Private   \n",
       "1449    Male  12.0             0              0           No  children   \n",
       "341     Male  34.0             0              0          Yes   Private   \n",
       "1567    Male  36.0             0              0           No   Private   \n",
       "560   Female  33.0             0              0          Yes   Private   \n",
       "3816  Female  17.0             0              0           No   Private   \n",
       "4768    Male  57.0             0              0          Yes  Govt_job   \n",
       "\n",
       "     Residence_type  avg_glucose_level   bmi smoking_status  stroke  \n",
       "2246          Urban              79.58  15.5        Unknown       0  \n",
       "4100          Rural             112.83  18.2        Unknown       0  \n",
       "3012          Rural              92.37  26.9   never smoked       0  \n",
       "3196          Urban              94.53  36.1   never smoked       0  \n",
       "1449          Urban              64.08  18.2        Unknown       0  \n",
       "341           Urban              80.81  33.2   never smoked       0  \n",
       "1567          Rural             233.52  40.9   never smoked       0  \n",
       "560           Urban              69.40  47.8   never smoked       0  \n",
       "3816          Rural             109.39  26.3   never smoked       0  \n",
       "4768          Rural              76.62  28.2   never smoked       0  "
      ]
     },
     "execution_count": 18,
     "metadata": {},
     "output_type": "execute_result"
    }
   ],
   "source": [
    "df.sample(10)"
   ]
  },
  {
   "cell_type": "code",
   "execution_count": 20,
   "id": "c2845900",
   "metadata": {},
   "outputs": [
    {
     "data": {
      "text/plain": [
       "(4981, 11)"
      ]
     },
     "execution_count": 20,
     "metadata": {},
     "output_type": "execute_result"
    }
   ],
   "source": [
    "#Kích thước của dữ liệu\n",
    "df.shape"
   ]
  },
  {
   "cell_type": "markdown",
   "id": "5b7d193d",
   "metadata": {},
   "source": [
    "Dữ liệu có 4981 mẫu, 11 thuộc tính, trong đó có 10 thuộc tính đầu là đặc trưng (X), thuộc tính cuối là nhãn (Y)"
   ]
  },
  {
   "cell_type": "markdown",
   "id": "c4f3a304",
   "metadata": {},
   "source": [
    "### 3. Thông tin cơ bản về dữ liệu"
   ]
  },
  {
   "cell_type": "code",
   "execution_count": 14,
   "id": "ca0b23fc",
   "metadata": {},
   "outputs": [
    {
     "name": "stdout",
     "output_type": "stream",
     "text": [
      "<class 'pandas.core.frame.DataFrame'>\n",
      "RangeIndex: 4981 entries, 0 to 4980\n",
      "Data columns (total 11 columns):\n",
      " #   Column             Non-Null Count  Dtype  \n",
      "---  ------             --------------  -----  \n",
      " 0   gender             4981 non-null   object \n",
      " 1   age                4981 non-null   float64\n",
      " 2   hypertension       4981 non-null   int64  \n",
      " 3   heart_disease      4981 non-null   int64  \n",
      " 4   ever_married       4981 non-null   object \n",
      " 5   work_type          4981 non-null   object \n",
      " 6   Residence_type     4981 non-null   object \n",
      " 7   avg_glucose_level  4981 non-null   float64\n",
      " 8   bmi                4981 non-null   float64\n",
      " 9   smoking_status     4981 non-null   object \n",
      " 10  stroke             4981 non-null   int64  \n",
      "dtypes: float64(3), int64(3), object(5)\n",
      "memory usage: 428.2+ KB\n"
     ]
    }
   ],
   "source": [
    "df.info()\n"
   ]
  },
  {
   "cell_type": "code",
   "execution_count": 15,
   "id": "6ea441e7",
   "metadata": {},
   "outputs": [
    {
     "data": {
      "text/plain": [
       "gender               0\n",
       "age                  0\n",
       "hypertension         0\n",
       "heart_disease        0\n",
       "ever_married         0\n",
       "work_type            0\n",
       "Residence_type       0\n",
       "avg_glucose_level    0\n",
       "bmi                  0\n",
       "smoking_status       0\n",
       "stroke               0\n",
       "dtype: int64"
      ]
     },
     "execution_count": 15,
     "metadata": {},
     "output_type": "execute_result"
    }
   ],
   "source": [
    "df.isnull().sum()"
   ]
  },
  {
   "cell_type": "markdown",
   "id": "ec8caa8e",
   "metadata": {},
   "source": [
    "* Không có dữ liệu thiếu \n",
    "* Các thuộc tính cần mã hóa: gender, ever_married, work_type, Residence_type, smoking_status."
   ]
  },
  {
   "cell_type": "code",
   "execution_count": 16,
   "id": "56a75c12",
   "metadata": {},
   "outputs": [
    {
     "data": {
      "text/plain": [
       "0    4733\n",
       "1     248\n",
       "Name: stroke, dtype: int64"
      ]
     },
     "execution_count": 16,
     "metadata": {},
     "output_type": "execute_result"
    }
   ],
   "source": [
    "df['stroke'].value_counts()"
   ]
  },
  {
   "cell_type": "code",
   "execution_count": 17,
   "id": "1b29c708",
   "metadata": {},
   "outputs": [
    {
     "data": {
      "image/png": "[encoded data removed]",
      "text/plain": [
       "<Figure size 640x480 with 1 Axes>"
      ]
     },
     "metadata": {},
     "output_type": "display_data"
    }
   ],
   "source": [
    "df['stroke'].value_counts().plot.bar(color=['salmon', 'lightblue']);\n",
    "plt.xlabel('0: No stroke, 1: Stroke')\n",
    "plt.ylabel('Count');"
   ]
  },
  {
   "cell_type": "markdown",
   "id": "a8be3b72",
   "metadata": {},
   "source": [
    "# B. Tiền xử lý dữ liệu"
   ]
  },
  {
   "cell_type": "code",
   "execution_count": 21,
   "id": "6628ebe2",
   "metadata": {},
   "outputs": [
    {
     "name": "stdout",
     "output_type": "stream",
     "text": [
      "Những thuộc tính cần mã hóa là:\n",
      "  +) gender: ['Male' 'Female']\n",
      "  +) ever_married: ['Yes' 'No']\n",
      "  +) work_type: ['Private' 'Self-employed' 'Govt_job' 'children']\n",
      "  +) Residence_type: ['Urban' 'Rural']\n",
      "  +) smoking_status: ['formerly smoked' 'never smoked' 'smokes' 'Unknown']\n"
     ]
    }
   ],
   "source": [
    "#Các thuộc tính cần mã hóa:\n",
    "print(\"Những thuộc tính cần mã hóa là:\")\n",
    "for column in df.columns:\n",
    "    if np.dtype (df[column]) == 'object':\n",
    "        print(f\"  +) {column}: {df[column].unique()}\")"
   ]
  },
  {
   "cell_type": "code",
   "execution_count": null,
   "id": "42ae5b00",
   "metadata": {},
   "outputs": [],
   "source": []
  }
 ],
 "metadata": {
  "kernelspec": {
   "display_name": "Python 3 (ipykernel)",
   "language": "python",
   "name": "python3"
  },
  "language_info": {
   "codemirror_mode": {
    "name": "ipython",
    "version": 3
   },
   "file_extension": ".py",
   "mimetype": "text/x-python",
   "name": "python",
   "nbconvert_exporter": "python",
   "pygments_lexer": "ipython3",
   "version": "3.11.4"
  }
 },
 "nbformat": 4,
 "nbformat_minor": 5
}
